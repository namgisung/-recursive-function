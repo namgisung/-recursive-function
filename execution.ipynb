{
  "nbformat": 4,
  "nbformat_minor": 0,
  "metadata": {
    "colab": {
      "provenance": [],
      "authorship_tag": "ABX9TyMttBTstlp2HFbW1QKC8Rf8",
      "include_colab_link": true
    },
    "kernelspec": {
      "name": "python3",
      "display_name": "Python 3"
    },
    "language_info": {
      "name": "python"
    }
  },
  "cells": [
    {
      "cell_type": "markdown",
      "metadata": {
        "id": "view-in-github",
        "colab_type": "text"
      },
      "source": [
        "<a href=\"https://colab.research.google.com/github/namgisung/recursive-function/blob/main/execution.ipynb\" target=\"_parent\"><img src=\"https://colab.research.google.com/assets/colab-badge.svg\" alt=\"Open In Colab\"/></a>"
      ]
    },
    {
      "cell_type": "code",
      "execution_count": 1,
      "metadata": {
        "colab": {
          "base_uri": "https://localhost:8080/"
        },
        "id": "jfQcUvLmvXyY",
        "outputId": "dbaffb9b-d516-4ed8-c90a-d49e0d33e9df"
      },
      "outputs": [
        {
          "output_type": "stream",
          "name": "stdout",
          "text": [
            "Enter a number: 5\n",
            "15\n"
          ]
        }
      ],
      "source": [
        "# 합\n",
        "def sum(n):\n",
        "    if n == 1:\n",
        "        return 1\n",
        "    else:\n",
        "        return n + sum(n - 1)\n",
        "\n",
        "if __name__ == \"__main__\":\n",
        "    a = int(input(\"Enter a number: \"))\n",
        "    result = sum(a)\n",
        "    print(result)"
      ]
    },
    {
      "cell_type": "code",
      "source": [
        "#팩토리얼\n",
        "def factorial(n):\n",
        "    if n == 0:\n",
        "        return 1\n",
        "    else:\n",
        "        return n * factorial(n - 1)\n",
        "\n",
        "if __name__ == \"__main__\":\n",
        "    a = int(input(\"Enter a number: \"))\n",
        "    result = factorial(a)\n",
        "    print(result)\n"
      ],
      "metadata": {
        "id": "INA4bUQbvY9h"
      },
      "execution_count": null,
      "outputs": []
    },
    {
      "cell_type": "code",
      "source": [
        "#거듭제곱\n",
        "def power(base, exponent):\n",
        "    if exponent == 0:\n",
        "        return 1\n",
        "    else:\n",
        "        return base * power(base, exponent - 1)\n",
        "\n",
        "if __name__ == \"__main__\":\n",
        "    input_numbers = input(\"Enter two numbers (separated by a space): \")\n",
        "    a, b = map(int, input_numbers.split())\n",
        "\n",
        "    result = power(a, b)\n",
        "    print(result)\n"
      ],
      "metadata": {
        "id": "-X6enrtCv8Wn"
      },
      "execution_count": null,
      "outputs": []
    },
    {
      "cell_type": "code",
      "source": [
        "#피보나치 수열\n",
        "def fib(n):\n",
        "    if n <= 1:\n",
        "        return n\n",
        "    else:\n",
        "        return fib(n - 1) + fib(n - 2)\n",
        "\n",
        "if __name__ == \"__main__\":\n",
        "    a = int(input(\"Enter a number: \"))\n",
        "    result = fib(a)\n",
        "    print(result)\n"
      ],
      "metadata": {
        "id": "ZCKA_JEKwQpu"
      },
      "execution_count": null,
      "outputs": []
    },
    {
      "cell_type": "code",
      "source": [
        "#동적계획법을 이용한 피보나치 수열\n",
        "def dp_fib(n, dp):\n",
        "    if dp[n] != 0:\n",
        "        return dp[n]\n",
        "    elif n == 0:\n",
        "        return 0\n",
        "    elif n == 1:\n",
        "        return 1\n",
        "    else:\n",
        "        dp[n] = dp_fib(n - 1, dp) + dp_fib(n - 2, dp)\n",
        "        return dp[n]\n",
        "\n",
        "if __name__ == \"__main__\":\n",
        "    dp = [0] * 100\n",
        "    a = int(input(\"Enter a number: \"))\n",
        "    result = dp_fib(a, dp)\n",
        "    print(result)\n"
      ],
      "metadata": {
        "id": "mlFYZsEtwU_H"
      },
      "execution_count": null,
      "outputs": []
    }
  ]
}